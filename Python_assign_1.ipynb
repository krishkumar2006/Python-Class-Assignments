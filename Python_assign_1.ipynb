{
  "nbformat": 4,
  "nbformat_minor": 0,
  "metadata": {
    "colab": {
      "provenance": [],
      "authorship_tag": "ABX9TyOQL2P91+ngdja/61X9xW5u",
      "include_colab_link": true
    },
    "kernelspec": {
      "name": "python3",
      "display_name": "Python 3"
    },
    "language_info": {
      "name": "python"
    }
  },
  "cells": [
    {
      "cell_type": "markdown",
      "metadata": {
        "id": "view-in-github",
        "colab_type": "text"
      },
      "source": [
        "<a href=\"https://colab.research.google.com/github/krishkumar2006/Python-assign-1/blob/main/Python_assign_1.ipynb\" target=\"_parent\"><img src=\"https://colab.research.google.com/assets/colab-badge.svg\" alt=\"Open In Colab\"/></a>"
      ]
    },
    {
      "cell_type": "code",
      "source": [
        "#PART 1\n",
        "#single quoted\n",
        "#Advantages:\n",
        "#short and clean syntax\n",
        "#Useful for simple strings that donot contain apostrophes\n",
        "\n",
        "Single_Quoted = 'Hello, python'\n",
        "print(Single_Quoted)\n",
        "\n",
        "#Double quoted\n",
        "#Advantages:\n",
        "#Helpful when string contain apostrophes\n",
        "#Often preferred for readibility with contraction\n",
        "\n",
        "Double_Quoted = \"Hi, It's me python\"\n",
        "print(Double_Quoted)\n",
        "\n",
        "#Triple quoted\n",
        "#Advantages:\n",
        "#Allow multiple line with out using \\n\n",
        "#support both single and double quotes without escaping\n",
        "\n",
        "Triple_Quoted = \"\"\"python support multi-line strings\"\"\"\n",
        "print(Triple_Quoted)\n",
        "\n",
        "#both single and Double in one quotes\n",
        "\n",
        "Both = \"Hey, I'm python, how can i help u?\"\n",
        "print(Both)\n",
        "\n",
        "#Multi-line string using triple quotes\n",
        "\n",
        "Hobby = \"\"\"Hey there!, How are you all. As we are talking about hobbies.\n",
        "MY hobby is something which i don't know myself.\n",
        " It develops but eventually i'm not consistent to it.\n",
        "   This is all about my hobbies .\n",
        "   Thank you.\"\"\"\n",
        "print(Hobby)"
      ],
      "metadata": {
        "id": "9Pudma-OG2OX",
        "outputId": "9073e692-d4d3-49e8-a119-fb440b425983",
        "colab": {
          "base_uri": "https://localhost:8080/"
        }
      },
      "execution_count": null,
      "outputs": [
        {
          "output_type": "stream",
          "name": "stdout",
          "text": [
            "Hello, python\n",
            "Hi, It's me python\n",
            "python support multi-line strings\n",
            "Hey, I'm python, how can i help u?\n",
            "Hey there!, How are you all. As we are talking about hobbies.\n",
            "MY hobby is something which i don't know myself.\n",
            " It develops but eventually i'm not consistent to it.\n",
            "   This is all about my hobbies .\n",
            "   Thank you.\n"
          ]
        }
      ]
    },
    {
      "cell_type": "code",
      "source": [],
      "metadata": {
        "id": "YBqLuVPxII5R"
      },
      "execution_count": null,
      "outputs": []
    },
    {
      "cell_type": "code",
      "source": [
        "#part2\n",
        "Full_name = \"kRish kuMar\"\n",
        "#upper case\n",
        "print(Full_name.upper())\n",
        "\n",
        "#lower case\n",
        "print(Full_name.lower())\n",
        "\n",
        "#capitalize\n",
        "print(Full_name.capitalize())\n",
        "\n",
        "Messy_text = \" python programming is fun  \"\n",
        "#Remove extra spaces\n",
        "print(Messy_text.strip())\n",
        "\n",
        "#replace words\n",
        "print(Messy_text.replace(\"fun\" ,\"vipp\" ))\n",
        "\n",
        "#counting p\n",
        "print(Messy_text.count(\"p\"))\n",
        "\n",
        "\n",
        "sentence = \"The quick brown fox jumps over the lazy dog\"\n",
        "\n",
        "#split\n",
        "print(sentence.split())\n",
        "\n",
        "# adding dashes\n",
        "print(\"_\".join(sentence.split()))\n",
        "print(\"_\".join(sentence))\n",
        "\n",
        "#starts with THE\n",
        "print(sentence.startswith(\"The\"))\n",
        "\n",
        "#find fox\n",
        "print(sentence.find(\"fox\"))"
      ],
      "metadata": {
        "colab": {
          "base_uri": "https://localhost:8080/"
        },
        "id": "_vvke4p0GFI-",
        "outputId": "a77e988c-06b2-4b97-e03b-b07c63863f33"
      },
      "execution_count": null,
      "outputs": [
        {
          "output_type": "stream",
          "name": "stdout",
          "text": [
            "KRISH KUMAR\n",
            "krish kumar\n",
            "Krish kumar\n",
            "python programming is fun\n",
            " python programming is vipp  \n",
            "2\n",
            "['The', 'quick', 'brown', 'fox', 'jumps', 'over', 'the', 'lazy', 'dog']\n",
            "The_quick_brown_fox_jumps_over_the_lazy_dog\n",
            "T_h_e_ _q_u_i_c_k_ _b_r_o_w_n_ _f_o_x_ _j_u_m_p_s_ _o_v_e_r_ _t_h_e_ _l_a_z_y_ _d_o_g\n",
            "True\n",
            "16\n"
          ]
        }
      ]
    },
    {
      "cell_type": "code",
      "source": [
        "#PART 3\n",
        "My_Name = \"Krish Kumar\"\n",
        "My_Age = 18\n",
        "Fav_Programming = \"python\"\n",
        "\n",
        "#implementing all using f-string\n",
        "My_Self = f\"My name is {My_Name}.\\n I'm {My_Age} year old.\\n I enjoy programming in {Fav_Programming}.It's my favourite.\\n In 5 years i will be {My_Age + 5 } years old\"\n",
        "print(My_Self)"
      ],
      "metadata": {
        "colab": {
          "base_uri": "https://localhost:8080/"
        },
        "id": "zSQME7xUGZFa",
        "outputId": "d5189aa3-d477-46b0-ce14-004db8e37e98"
      },
      "execution_count": null,
      "outputs": [
        {
          "output_type": "stream",
          "name": "stdout",
          "text": [
            "My name is Krish Kumar.\n",
            " I'm 18 year old.\n",
            " I enjoy programming in python.It's my favourite.\n",
            " In 5 years i will be 23 years old\n"
          ]
        }
      ]
    },
    {
      "cell_type": "code",
      "source": [
        "#PART 4\n",
        "\n",
        "First_Name = input(\"Enter your first name :\").strip().capitalize()\n",
        "Last_Name = input(\"Enter your last name :\").strip().capitalize()\n",
        "Birth_Year = input(\"Enter your birth year :\").strip()\n",
        "\n",
        "#calculating age\n",
        "from datetime import datetime\n",
        "current_year = datetime.now().year\n",
        "Age = current_year - int(Birth_Year)\n",
        "\n",
        "#username\n",
        "username = f\"{First_Name[0].lower()}{Last_Name.lower()}{Birth_Year}\"\n",
        "\n",
        "print(f\"\\n Profile : {First_Name} {Last_Name}| Age: {Age}| Username : {username}\")"
      ],
      "metadata": {
        "colab": {
          "base_uri": "https://localhost:8080/"
        },
        "id": "5jB5QaU8GibB",
        "outputId": "1f94fd6a-e07b-404b-ceb1-87a6e4082dac"
      },
      "execution_count": null,
      "outputs": [
        {
          "output_type": "stream",
          "name": "stdout",
          "text": [
            "Enter your first name :krish\n",
            "Enter your last name :kumar\n",
            "Enter your birth year :2006\n",
            "\n",
            " Profile : Krish Kumar| Age: 19| Username : kkumar2006\n"
          ]
        }
      ]
    }
  ]
}