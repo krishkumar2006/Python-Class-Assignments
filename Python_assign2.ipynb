{
  "nbformat": 4,
  "nbformat_minor": 0,
  "metadata": {
    "colab": {
      "provenance": [],
      "authorship_tag": "ABX9TyMJGlkZkXQzBoFkmsCMYXGn",
      "include_colab_link": true
    },
    "kernelspec": {
      "name": "python3",
      "display_name": "Python 3"
    },
    "language_info": {
      "name": "python"
    }
  },
  "cells": [
    {
      "cell_type": "markdown",
      "metadata": {
        "id": "view-in-github",
        "colab_type": "text"
      },
      "source": [
        "<a href=\"https://colab.research.google.com/github/krishkumar2006/Python-Class-Assignments/blob/main/Python_assign2.ipynb\" target=\"_parent\"><img src=\"https://colab.research.google.com/assets/colab-badge.svg\" alt=\"Open In Colab\"/></a>"
      ]
    },
    {
      "cell_type": "markdown",
      "source": [
        "Simple calculator"
      ],
      "metadata": {
        "id": "LJZP-hyLY71D"
      }
    },
    {
      "cell_type": "code",
      "source": [
        "#simple calculator\n",
        "\n",
        "#Addition\n",
        "def  Addition(x , y):\n",
        "    return x + y\n",
        "\n",
        "#subtraction\n",
        "def subtract(x , y):\n",
        "    return x - y\n",
        "\n",
        "#Multiplication\n",
        "def Multiply(x , y):\n",
        "    return x * y\n",
        "\n",
        "#Divide\n",
        "def Divide(x , y):\n",
        "    return x / y if y!= 0 else \"Cannot be divided by 0\"\n",
        "\n",
        "def calculator():\n",
        "    print(\"1 , Addition\")\n",
        "    print(\"2 , subtract\")\n",
        "    print(\"3 , Multiply\")\n",
        "    print(\"4 , Divide\")\n",
        "    choice = input(\"Enter(1/2/3/4):\")\n",
        "\n",
        "#if user choose any numerical option the input will appear\n",
        "    if choice in [\"1\" , \"2\" , \"3\" , \"4\"]:\n",
        "     num1 = float(input(\"Enter your first number\"))\n",
        "     num2 = float(input(\"Enter your second number\"))\n",
        "\n",
        "#The option run according to the chosen option\n",
        "    if choice == '1':\n",
        "     print(\"The result is\", {Addition(num1 , num2)})\n",
        "    elif  choice == '2':\n",
        "       print(\"The result is\" , {subtract(num1 , num2)})\n",
        "    elif choice == '3':\n",
        "       print(\"The result is \" , {Multiply(num1 , num2)})\n",
        "    elif choice == '4':\n",
        "       print(\"The result is\" , {Divide(num1 , num2)})\n",
        "    else:\n",
        "        print(\"invalid\")\n",
        "\n",
        "#calling function\n",
        "calculator()\n",
        "\n",
        "\n"
      ],
      "metadata": {
        "id": "NKks-FzXZB67"
      },
      "execution_count": null,
      "outputs": []
    },
    {
      "cell_type": "markdown",
      "source": [
        "Grading system"
      ],
      "metadata": {
        "id": "-g2GtawTZ8Kq"
      }
    },
    {
      "cell_type": "code",
      "source": [
        "#Grading system\n",
        "# grading list\n",
        "def Grades(score):\n",
        "    if score >= 80:\n",
        "        return f\"A1 Grade \\n Exceptional\"\n",
        "    elif score >= 70:\n",
        "        return f\"A Grade \\n Excellent\"\n",
        "    elif score >= 60:\n",
        "        return f\"B+ Grade \\n very Good\"\n",
        "    elif score >= 50:\n",
        "        return f\"B Grade \\n Good\"\n",
        "    elif score >= 40:\n",
        "        return f\"C Grade \\n Fair\"\n",
        "    elif score >= 33:\n",
        "        return f\"C+ Grade \\n Satisfactory\"\n",
        "    else:\n",
        "        return \"Fail\"\n",
        "\n",
        "#Managing input\n",
        "def main():\n",
        "  grade = None #initialize outside the block\n",
        "\n",
        "#try use to catch error when the input is invalid and if an error caught the except function runs\n",
        "  try:\n",
        "     score = float(input(\"Enter Student score:\"))\n",
        "     if score < 0 or score > 100:\n",
        "      print(F\"Invalid Input\\n Please enter value between 0 and 100\")\n",
        "     else:\n",
        "      grade = Grades(score)\n",
        "     print(f\"The Student grade is: {grade}\")\n",
        "  except ValueError:\n",
        "        print(\"invalid input\")\n",
        "\n",
        "# calling function main()\n",
        "main()\n",
        "\n",
        "\n",
        "\n"
      ],
      "metadata": {
        "colab": {
          "base_uri": "https://localhost:8080/"
        },
        "id": "TUGDq2SoaADF",
        "outputId": "5268c004-473a-458b-ea90-f9ba8c61eb2f"
      },
      "execution_count": null,
      "outputs": [
        {
          "output_type": "stream",
          "name": "stdout",
          "text": [
            "Enter Student score:34\n",
            "The Student grade is: C+ Grade \n",
            " satisfactory\n"
          ]
        }
      ]
    }
  ]
}