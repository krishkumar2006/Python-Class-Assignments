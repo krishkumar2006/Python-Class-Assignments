{
  "nbformat": 4,
  "nbformat_minor": 0,
  "metadata": {
    "colab": {
      "provenance": [],
      "authorship_tag": "ABX9TyMfrriQaTcLpi1hHNfVameG",
      "include_colab_link": true
    },
    "kernelspec": {
      "name": "python3",
      "display_name": "Python 3"
    },
    "language_info": {
      "name": "python"
    }
  },
  "cells": [
    {
      "cell_type": "markdown",
      "metadata": {
        "id": "view-in-github",
        "colab_type": "text"
      },
      "source": [
        "<a href=\"https://colab.research.google.com/github/krishkumar2006/Python-Class-Assignments/blob/main/Python_assign_04.ipynb\" target=\"_parent\"><img src=\"https://colab.research.google.com/assets/colab-badge.svg\" alt=\"Open In Colab\"/></a>"
      ]
    },
    {
      "cell_type": "code",
      "source": [
        "#Tasks:\n",
        "#1. Create and Modify Lists\n",
        "\n",
        "List = [\"apple\" , \"banana\" , \"orange\"] #original list\n",
        "List.append(\"grape\") #adding grape into the end of list\n",
        "print(List)\n",
        "List.insert(2  ,\"mango\") #inserting mango\n",
        "print(List)\n",
        "List.remove(\"banana\") #removing banana\n",
        "print(List) #final list"
      ],
      "metadata": {
        "colab": {
          "base_uri": "https://localhost:8080/"
        },
        "id": "BzGIUmhPCfsW",
        "outputId": "2d21249f-df0a-46cd-8c95-9ebb6718c443"
      },
      "execution_count": null,
      "outputs": [
        {
          "output_type": "stream",
          "name": "stdout",
          "text": [
            "['apple', 'banana', 'orange', 'grape']\n",
            "['apple', 'banana', 'mango', 'orange', 'grape']\n",
            "['apple', 'mango', 'orange', 'grape']\n"
          ]
        }
      ]
    },
    {
      "cell_type": "code",
      "source": [
        "#2. List Operations\n",
        "numbers = [10, 20, 30, 40, 50 ]\n",
        "more_number = [ 60, 70, 80 ]\n",
        "All_numbers = numbers + more_number\n",
        "numbers_copy = All_numbers.copy()\n",
        "numbers_copy.reverse()\n",
        "print(numbers_copy)\n",
        "print(All_numbers)"
      ],
      "metadata": {
        "colab": {
          "base_uri": "https://localhost:8080/"
        },
        "id": "Ah6jxDF5FOp8",
        "outputId": "87de493e-5a39-46fc-e6a5-80aad77ac818"
      },
      "execution_count": null,
      "outputs": [
        {
          "output_type": "stream",
          "name": "stdout",
          "text": [
            "[80, 70, 60, 50, 40, 30, 20, 10]\n",
            "[10, 20, 30, 40, 50, 60, 70, 80]\n"
          ]
        }
      ]
    },
    {
      "cell_type": "code",
      "source": [
        "#3. Sorting and Counting\n",
        "scores = [85, 92, 78, 65, 92, 85, 74 ]\n",
        "assending = sorted(scores)\n",
        "descending = sorted(scores , reverse=True)\n",
        "scores.count(92)\n",
        "Highest_scores = max(scores)\n",
        "Lowest_scores = min(scores)\n",
        "print(\"Highest\" , Highest_scores ,\"Lowest\" , Lowest_scores)\n",
        "print(assending)"
      ],
      "metadata": {
        "colab": {
          "base_uri": "https://localhost:8080/"
        },
        "id": "w9WliOMfHOsX",
        "outputId": "6feebd2f-658f-40f1-ec97-46021d5eac9b"
      },
      "execution_count": null,
      "outputs": [
        {
          "output_type": "stream",
          "name": "stdout",
          "text": [
            "Highest 92 Lowest 65\n",
            "[65, 74, 78, 85, 85, 92, 92]\n"
          ]
        }
      ]
    },
    {
      "cell_type": "code",
      "source": [
        "#4. List Manipulation\n",
        "letters = [\"a\", \"b\", \"c\", \"d\", \"e\"]\n",
        "sliced = letters[0:3]\n",
        "print(sliced)\n",
        "sliced2 = letters[3:5]\n",
        "print(sliced2)\n",
        "Find_C = letters.index(\"c\")\n",
        "print(Find_C)\n",
        "letters[3] = \"z\"\n",
        "print(letters)\n"
      ],
      "metadata": {
        "colab": {
          "base_uri": "https://localhost:8080/"
        },
        "id": "A64ZpV7_sRwK",
        "outputId": "dcec7680-0a03-4068-ed75-997d4f5d44e7"
      },
      "execution_count": null,
      "outputs": [
        {
          "output_type": "stream",
          "name": "stdout",
          "text": [
            "['a', 'b']\n",
            "['d', 'e']\n",
            "2\n",
            "['a', 'b', 'c', 'z', 'e']\n"
          ]
        }
      ]
    },
    {
      "cell_type": "code",
      "source": [
        "#Dictionary Methods Practice\n",
        "#Tasks:\n",
        "#1. Create and Access Dictionaries\n",
        "\n",
        "dictionary = {\n",
        "    \"name\": \"John\",\n",
        "      \"age\": 20,\n",
        "    \"grade\": \"A\",\n",
        "\"courses\": [\"Math\", \"Science\", \"History\"]\n",
        "}\n",
        "\n",
        "print(dictionary[\"name\"]) #john\n",
        "print(dictionary[\"courses\"]) # [\"Math\", \"Science\", \"History\"]\n",
        "\n",
        "dictionary[\"Email\"] = \"john@example.giaic\"\n",
        "print(dictionary)\n",
        "\n",
        "#2. Modify Dictionary Values\n",
        "\n",
        "dictionary[\"age\"] = 21\n",
        "dictionary[\"courses\"].append(\"computer science\")\n",
        "dictionary.update({\"grade\" : \"A1\"})\n",
        "print(\"Modified\" ,dictionary)\n",
        "\n",
        "#3. Dictionary Operations\n",
        "dictionary2 = {\n",
        "    \"street\": \"123 College Ave\",\n",
        "  \"city\": \"New York\",\n",
        "  \"zip\": \"10001\"\n",
        "}\n",
        "\n",
        "Student_info = dictionary | dictionary2\n",
        "print(Student_info)\n",
        "\n",
        "del Student_info[\"zip\"]\n",
        "if \"phone\" in Student_info:\n",
        "  print(\"Phone number is present.\")\n",
        "else:\n",
        "  print(\"Phone number is not present\")\n",
        "  print(Student_info)\n"
      ],
      "metadata": {
        "colab": {
          "base_uri": "https://localhost:8080/"
        },
        "id": "XTiFeEvp0UIR",
        "outputId": "3eda8409-4a44-4715-aa60-92aabccaa6a8"
      },
      "execution_count": null,
      "outputs": [
        {
          "output_type": "stream",
          "name": "stdout",
          "text": [
            "John\n",
            "['Math', 'Science', 'History']\n",
            "{'name': 'John', 'age': 20, 'grade': 'A', 'courses': ['Math', 'Science', 'History'], 'Email': 'john@example.giaic'}\n",
            "Modified {'name': 'John', 'age': 21, 'grade': 'A1', 'courses': ['Math', 'Science', 'History', 'computer science'], 'Email': 'john@example.giaic'}\n",
            "{'name': 'John', 'age': 21, 'grade': 'A1', 'courses': ['Math', 'Science', 'History', 'computer science'], 'Email': 'john@example.giaic', 'street': '123 College Ave', 'city': 'New York', 'zip': '10001'}\n",
            "Phone number is not present\n",
            "{'name': 'John', 'age': 21, 'grade': 'A1', 'courses': ['Math', 'Science', 'History', 'computer science'], 'Email': 'john@example.giaic', 'street': '123 College Ave', 'city': 'New York'}\n"
          ]
        }
      ]
    },
    {
      "cell_type": "code",
      "source": [
        "#4. Dictionary Methods\n",
        "Word_count = {\n",
        "    \"hello\": 5,\n",
        " \"world\": 10,\n",
        "\"python\": 15,\n",
        "}\n",
        "print(Word_count.keys())\n",
        "print(Word_count.values())\n",
        "print(Word_count.items())\n",
        "\n",
        "copy = Word_count.copy()\n",
        "Word_count.clear()\n",
        "print(Word_count)\n",
        "print(copy)\n",
        "\n",
        "\n",
        "\n"
      ],
      "metadata": {
        "colab": {
          "base_uri": "https://localhost:8080/"
        },
        "id": "qtqAKO1x2Xgz",
        "outputId": "213b9c9d-8cdb-4107-eaa8-f60c02b935fa"
      },
      "execution_count": null,
      "outputs": [
        {
          "output_type": "stream",
          "name": "stdout",
          "text": [
            "dict_keys(['hello', 'world', 'python'])\n",
            "dict_values([5, 10, 15])\n",
            "dict_items([('hello', 5), ('world', 10), ('python', 15)])\n",
            "{}\n",
            "{'hello': 5, 'world': 10, 'python': 15}\n"
          ]
        }
      ]
    },
    {
      "cell_type": "code",
      "source": [
        "\n",
        "#Shopping Discount Calculator\n",
        "\n",
        "purchase_amount = 120\n",
        "\n",
        "Is_loyalty_member = True\n",
        "\n",
        "day_of_week = \"saturday\"\n",
        "\n",
        "Is_holiday_season = True\n",
        "\n",
        "total_discount = 0\n",
        "\n",
        "if purchase_amount >= 100:\n",
        "  total_discount +=10\n",
        "elif purchase_amount >=50:\n",
        "  total_discount +=5\n",
        "\n",
        "#Apply discount rules using if statements:\n",
        "if Is_loyalty_member:\n",
        "  total_discount +=5\n",
        "\n",
        "if day_of_week == \"saturday\":\n",
        "  total_discount +=2\n",
        "\n",
        "if Is_holiday_season:\n",
        "  total_discount +=8\n",
        "\n",
        "Discount = purchase_amount * total_discount / 100\n",
        "final_price = purchase_amount - Discount\n",
        "\n",
        "print(f\"Original Purchase Amount: ${purchase_amount:.2f}\")\n",
        "print(f\"Total Discount Applied: {total_discount}%\")\n",
        "print(f\"Discount Amount: ${Discount:.2f}\")\n",
        "print(f\"Final Price to Pay: ${final_price:.2f}\")\n",
        "\n"
      ],
      "metadata": {
        "colab": {
          "base_uri": "https://localhost:8080/"
        },
        "id": "G3UGWqZXVP1a",
        "outputId": "5492c850-8e67-4fd5-861d-dc0b277667a3"
      },
      "execution_count": null,
      "outputs": [
        {
          "output_type": "stream",
          "name": "stdout",
          "text": [
            "Original Purchase Amount: $120.00\n",
            "Total Discount Applied: 25%\n",
            "Discount Amount: $30.00\n",
            "Final Price to Pay: $90.00\n"
          ]
        }
      ]
    },
    {
      "cell_type": "code",
      "source": [
        "#For Loop Assignment - Number Patterns\n",
        "#Counting Numbers\n",
        "numbers = range(1 , 11)\n",
        "for i in numbers:\n",
        "  print(i , end=\" \")\n",
        "\n",
        "\n",
        "\n"
      ],
      "metadata": {
        "colab": {
          "base_uri": "https://localhost:8080/"
        },
        "id": "0f1_TRzpEd5U",
        "outputId": "edc42754-c75a-4cd1-ba23-7052bc773be1"
      },
      "execution_count": null,
      "outputs": [
        {
          "output_type": "stream",
          "name": "stdout",
          "text": [
            "1 2 3 4 5 6 7 8 9 10 "
          ]
        }
      ]
    },
    {
      "cell_type": "code",
      "source": [
        "#Pattern 2: Multiplication Table\n",
        "# Create a multiplication table for the number 5 (from 1 to 10).\n",
        "nummbers = range(1 , 11)\n",
        "for i in numbers:\n",
        "  print(\"5 x \",i , \"=\" , 5*i)\n"
      ],
      "metadata": {
        "colab": {
          "base_uri": "https://localhost:8080/"
        },
        "id": "rZSPnqH5I0tD",
        "outputId": "81e83807-cc98-408a-9efb-852bb6ef8b59"
      },
      "execution_count": null,
      "outputs": [
        {
          "output_type": "stream",
          "name": "stdout",
          "text": [
            "5 x  1 = 5\n",
            "5 x  2 = 10\n",
            "5 x  3 = 15\n",
            "5 x  4 = 20\n",
            "5 x  5 = 25\n",
            "5 x  6 = 30\n",
            "5 x  7 = 35\n",
            "5 x  8 = 40\n",
            "5 x  9 = 45\n",
            "5 x  10 = 50\n"
          ]
        }
      ]
    },
    {
      "cell_type": "code",
      "source": [
        "#While Loop Assignment - Interactive Game\n",
        "#Create a simple number guessing game using a while loop.\n",
        "\n",
        "SECRET_NUMBER = 31\n",
        "Guesses = 0\n",
        "\n",
        "guess = int(input(\"Guess the number:\"))\n",
        "Guesses +=1\n",
        "while guess != SECRET_NUMBER:\n",
        "  if guess < SECRET_NUMBER:\n",
        "    print(\"Too low Tryagain\")\n",
        "  else:\n",
        "      print(\"Too high Tryagain\")\n",
        "  guess = int(input(\"Guess the number\"))\n",
        "print(f\"Congratulations! You guessed the secret number in {Guesses} tries\" )\n"
      ],
      "metadata": {
        "id": "jvjsZRndKlj8"
      },
      "execution_count": null,
      "outputs": []
    },
    {
      "cell_type": "code",
      "source": [
        "#Student Grade Management System\n",
        "students = []\n",
        "\n",
        "student1 = {\n",
        "    \"name\": \"Raza\",\n",
        "    \"id\" : 1,\n",
        "    \"grade\" : {\n",
        "        \"Math\" : 90,\n",
        "        \"science\" : 70,\n",
        "        \"history\" : 92\n",
        "    }\n",
        "}\n",
        "students.append(student1)\n",
        "\n",
        "student2 = {\n",
        "    \"name\": \"shazz\",\n",
        "    \"id\" : 2,\n",
        "    \"grade\" : {\n",
        "        \"Math\" : 82,\n",
        "        \"science\" : 80,\n",
        "        \"history\" : 34\n",
        "    }\n",
        "}\n",
        "students.append(student2)\n",
        "\n",
        "student3 = {\n",
        "    \"name\": \"kretos\",\n",
        "    \"id\" : 3,\n",
        "    \"grade\" : {\n",
        "        \"Math\" : 81,\n",
        "        \"science\" : 43,\n",
        "        \"history\" : 92\n",
        "    }\n",
        "}\n",
        "students.append(student3)\n",
        "\n",
        "# Display each student's name, ID, and individual course grades\n",
        "for student in students:\n",
        "  print(f\"\\nName: {student['name']}, ID: {student['id']} \")\n",
        "  for course, grade in student['grade'].items():\n",
        "    print(f\"  {course}: {grade}\")\n",
        "\n",
        "# Find the student with the highest average\n",
        "for student in students:\n",
        "  avg = sum(student['grade'].values()) / len(student['grade'])\n",
        "  student['average'] = avg\n",
        "  print(f\"\\n {student['name']} {avg:.2f}\")\n",
        "\n",
        "#top mask\n",
        "topper = max(students, key= lambda x:x['average'])\n",
        "print(f\"\\nTopper is {topper['name']} with an average {topper['average']}.2f \")\n",
        "\n",
        "print(f\"\\n students with average grade above 80:\")\n",
        "for student in students:\n",
        "  if student['average'] > 80:\n",
        "    print(f\"\\n {student['name']} - {student['average']}\")\n",
        "\n",
        "# Calculate and print the average grade for a specific course\n",
        "course =\"Math\"\n",
        "total = 0\n",
        "count = 0\n",
        "for student in students:\n",
        "  total += student['grade'][course]\n",
        "  count +=1\n",
        "  course_avg = total / count\n",
        "print(f\"\\nAverage grade of  {course} is: {course_avg}\")\n",
        "\n",
        "# Add a new student via user input\n",
        "name = input(\"\\n Enter you full name:\")\n",
        "student_id = int(input(\"Enter your student id:\"))\n",
        "grades={}\n",
        "for course in [\"Maths\" , \"science\" , \"history\"]:\n",
        "  grade = float(input(f\" Enter you grade of {course}:\"))\n",
        "  grades[course] = grade\n",
        "\n",
        "# Calculate average for the new student and add them to the list\n",
        "avg = sum(grades.values()) / len(grades)\n",
        "students.append({\"name\":name, \"id\": student_id, \"grade\": grades, \"average\": avg})\n",
        "print(f\"\\nnNew student {name} added successfully with average {avg:.2f}\")\n",
        "\n",
        "\n",
        "\n",
        "\n",
        "\n",
        "\n",
        "\n",
        "\n"
      ],
      "metadata": {
        "id": "uuCZTPoGDeJX"
      },
      "execution_count": null,
      "outputs": []
    }
  ]
}