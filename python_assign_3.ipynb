{
  "nbformat": 4,
  "nbformat_minor": 0,
  "metadata": {
    "colab": {
      "provenance": [],
      "authorship_tag": "ABX9TyNpdYtVrCU2TX9wqYFdQMjd",
      "include_colab_link": true
    },
    "kernelspec": {
      "name": "python3",
      "display_name": "Python 3"
    },
    "language_info": {
      "name": "python"
    }
  },
  "cells": [
    {
      "cell_type": "markdown",
      "metadata": {
        "id": "view-in-github",
        "colab_type": "text"
      },
      "source": [
        "<a href=\"https://colab.research.google.com/github/krishkumar2006/Python-Class-Assignments/blob/main/python_assign_3.ipynb\" target=\"_parent\"><img src=\"https://colab.research.google.com/assets/colab-badge.svg\" alt=\"Open In Colab\"/></a>"
      ]
    },
    {
      "cell_type": "code",
      "source": [
        "#Basic list operations\n",
        "#1 create a list and append a new number to it\n",
        "number = [1 , 2 , 3 , 4 , 5]\n",
        "number.append(6)\n",
        "print(number) #return new list"
      ],
      "metadata": {
        "id": "nq_c4Kk7Mfw9"
      },
      "execution_count": null,
      "outputs": []
    },
    {
      "cell_type": "code",
      "source": [
        "#2 Extend list with another\n",
        "num1 = [1 , 2 , 3]\n",
        "num2 = [4 , 5 , 6 , 7 ]\n",
        "num1.extend(num2)\n",
        "print(num1)"
      ],
      "metadata": {
        "id": "M4fYZGq1MgKv"
      },
      "execution_count": null,
      "outputs": []
    },
    {
      "cell_type": "code",
      "source": [
        "#3 Insert the string \"python\" at index 2 in the list\n",
        "languages = [\"java\", \"C++\", \"javascript\" , \"Ruby\" ]\n",
        "languages.insert(2 , \"python\")\n",
        "print(languages)"
      ],
      "metadata": {
        "id": "zhyyux3TNMaS"
      },
      "execution_count": null,
      "outputs": []
    },
    {
      "cell_type": "code",
      "source": [
        "#4 Remove the first occurance of the number in the list\n",
        "num_list = [10 , 20 , 30 , 40]\n",
        "num_list.remove(10)\n",
        "print(num_list) # 10 will remove and return new list"
      ],
      "metadata": {
        "id": "Su82JAnEMgUj"
      },
      "execution_count": null,
      "outputs": []
    },
    {
      "cell_type": "code",
      "source": [
        "#5 pop will remove the last element in the list\n",
        "pop_list = [100 , 200 , 300 , 400 ]\n",
        "pop_list.pop()\n",
        "print(pop_list)\n"
      ],
      "metadata": {
        "id": "dtq7rd50MgXC"
      },
      "execution_count": null,
      "outputs": []
    },
    {
      "cell_type": "code",
      "source": [
        "#Intermediate List operations\n",
        "\n",
        "#6 Count how many times the number 5 appear in the list\n",
        "Number = [5, 10, 5, 20, 5, 30]\n",
        "Count = Number.count(5)\n",
        "print(Count)"
      ],
      "metadata": {
        "id": "PzZnnFMuMgZX"
      },
      "execution_count": null,
      "outputs": []
    },
    {
      "cell_type": "code",
      "source": [
        "#7 Assending order\n",
        "Ascending = [\"A\" , \"Z\" , \"S\", \"C\"]\n",
        "Ascending.sort()\n",
        "print(Ascending) # Ascending order\n",
        "\n",
        "#8 Desending order\n",
        "Decending = [\"A\" , \"Z\" , \"S\", \"C\"]\n",
        "Decending.sort(reverse=True)\n",
        "print(Decending) #Decending order\n"
      ],
      "metadata": {
        "id": "3m1jsSiIMgbm"
      },
      "execution_count": null,
      "outputs": []
    },
    {
      "cell_type": "code",
      "source": [
        "#9 create a copy of a list , store in to variable , modify it and print both listt\n",
        "Original_list = [\"I will start learning python\"]\n",
        "Copy_list = Original_list.copy()\n",
        "Copy_list.append(\"but from Tomorrow \\U0001F60A\")\n",
        "print(Original_list)\n",
        "print(Copy_list)"
      ],
      "metadata": {
        "id": "JUtOMacVMgeJ"
      },
      "execution_count": null,
      "outputs": []
    },
    {
      "cell_type": "code",
      "source": [
        "#10 Clear the list\n",
        "Clear_list =  [\"hello\", \"world\", \"python\"]\n",
        "Clear_list.clear()\n",
        "print(Clear_list)"
      ],
      "metadata": {
        "id": "_0LMMVbXMghp"
      },
      "execution_count": null,
      "outputs": []
    },
    {
      "cell_type": "code",
      "source": [
        "#Tuple Based Questions\n",
        "\n",
        "#11 Create a tuple of five different fruits and print the third one\n",
        "Tuple = (\"Apple\" , \"Banana\" , \"Grapes\" , \"Mango\" , \"Watermelon\")\n",
        "print(Tuple[2])\n"
      ],
      "metadata": {
        "id": "i71XNICoOTaJ"
      },
      "execution_count": null,
      "outputs": []
    },
    {
      "cell_type": "code",
      "source": [
        "#12 Create a tuple\n",
        "My_Tuple =  (10, 20, 30, 40, 50)\n",
        "\n",
        "#convert tuple into list\n",
        "My_List = list(My_Tuple)\n",
        "\n",
        "#Remove 30 from the list\n",
        "My_List.remove(30)\n",
        "\n",
        "#Convert back into tuple\n",
        "My_Tuple = tuple(My_List)\n",
        "\n",
        "#print tuple\n",
        "print(My_Tuple)"
      ],
      "metadata": {
        "id": "uMmI0BEGOTnJ"
      },
      "execution_count": null,
      "outputs": []
    },
    {
      "cell_type": "code",
      "source": [
        "#Tuple donot support append method . Tuples are immutable. So i will show error if we go through this method\n",
        "# Tup = (\"A\" , \"B\" , \"C\" )\n",
        "# Tup.append(\"D\")\n",
        "# print(Tup)\n",
        "\n",
        "#13 Here is an indirect method to modify tuple\n",
        "Tup = (\"A\" , \"B\" , \"C\" )\n",
        "Tup = Tup + (\"D\",)\n",
        "print(Tup)"
      ],
      "metadata": {
        "id": "O0tR-EZAOTwN"
      },
      "execution_count": null,
      "outputs": []
    },
    {
      "cell_type": "code",
      "source": [
        "#14 Unpack the tuples into 3 different variables and print them\n",
        "Unpack = (100 , 200 , 300)\n",
        "a, b, c = Unpack\n",
        "print(a, b, c)\n"
      ],
      "metadata": {
        "id": "kZoxVahoOT2i"
      },
      "execution_count": null,
      "outputs": []
    },
    {
      "cell_type": "code",
      "source": [
        "#15 Count the occurrences of 7 in the tuple (7, 1, 7, 3, 7, 5).\n",
        "My_Tuple = (7, 1, 7, 3, 7, 5)\n",
        "Count = My_Tuple.count(7)\n",
        "print(Count)\n"
      ],
      "metadata": {
        "id": "iA4mTblVOhDn"
      },
      "execution_count": null,
      "outputs": []
    },
    {
      "cell_type": "code",
      "source": [
        "#16 Create a function and return odd number from list\n",
        "def return_odd_number(List):\n",
        "    return[num for num in List if num % 2 != 0]\n",
        "\n",
        "My_List = [4 , 7 , 9 , 32 , 55]\n",
        "print(return_odd_number(My_List))\n"
      ],
      "metadata": {
        "id": "q9lRYvouOhNM"
      },
      "execution_count": null,
      "outputs": []
    },
    {
      "cell_type": "code",
      "source": [
        "# 17. Create a function that accepts a list and returns a new list with elements sorted in\n",
        "# descending order without using the sort() method.\n",
        "def Des(List):\n",
        "    return sorted(List, reverse=True)\n",
        "\n",
        "My_List = [1 , 3 , 5  , 7 , 9]\n",
        "print(Des(My_List))"
      ],
      "metadata": {
        "id": "LZSf71NJOhTr"
      },
      "execution_count": null,
      "outputs": []
    },
    {
      "cell_type": "code",
      "source": [
        "#18  Given a list of numbers, write a program to remove all duplicate elements and print the unique elements.\n",
        "Duplicate = [1 ,3 ,5 , 6,  7, 8 ,4 , 5 ,3 ,2  ]\n",
        "\n",
        "unique_elements = set()\n",
        "\n",
        "for num in number:\n",
        "    unique_elements.add(num)\n",
        "\n",
        "print(unique_elements)"
      ],
      "metadata": {
        "id": "TAiVf_oTOt51"
      },
      "execution_count": null,
      "outputs": []
    },
    {
      "cell_type": "code",
      "source": [
        "#19  Given a tuple of names (“Alice”, “Bob”, “Charlie”, “Alice”, “David”), convert it into a list, remove duplicates, and convert it back to a tuple.\n",
        "\n",
        "My_Tuple = (\"Alice\", \"Bob\", \"Charlie\", \"Alice\", \"David\")\n",
        "\n",
        "\n",
        "#convert tuples into list\n",
        "My_List = list(My_Tuple)\n",
        "\n",
        "#Remove duplicate from the list using set , and then back to list\n",
        "My_List = list(set(My_List))\n",
        "\n",
        "#using sort so that element remain in sequence\n",
        "My_List.sort()\n",
        "\n",
        "#Converting back to tuples\n",
        "My_Tuple = tuple(My_List)\n",
        "\n",
        "print(My_Tuple)"
      ],
      "metadata": {
        "id": "4PFzHpMLOuGR"
      },
      "execution_count": null,
      "outputs": []
    },
    {
      "cell_type": "code",
      "source": [
        "#20 Create a program that takes a list of mixed data types (int, str, float) and separates integers into one list, strings into another, and floats into another.\n",
        "def separate_data_list(mixed_list):\n",
        "    integer_list = []\n",
        "    string_list = []\n",
        "    Float_list = []\n",
        "\n",
        "    for item in mixed_list:\n",
        "        if isinstance(item , int):\n",
        "            integer_list.append(item)\n",
        "        elif isinstance(item , str):\n",
        "            string_list.append(item)\n",
        "        elif isinstance(item , float):\n",
        "            Float_list.append(item)\n",
        "\n",
        "    return integer_list, Float_list, string_list\n",
        "\n",
        "Mixed_Data = [\"A\" , 70 , \"python\" , 0.33, \"initiative\" , \"mango\" , 33 , 332.33333]\n",
        "\n",
        "integers , Float , string = separate_data_list(Mixed_Data)\n",
        "\n",
        "print(\"integers\", integers)\n",
        "print(\"string\", string)\n",
        "print(\"Float\", Float)\n"
      ],
      "metadata": {
        "colab": {
          "base_uri": "https://localhost:8080/"
        },
        "id": "lTf6-uYsO65x",
        "outputId": "63ee1d84-971e-4569-c9ad-bae203bae300"
      },
      "execution_count": null,
      "outputs": [
        {
          "output_type": "stream",
          "name": "stdout",
          "text": [
            "integers [70, 33]\n",
            "string ['A', 'python', 'initiative', 'mango']\n",
            "Float [0.33, 332.33333]\n"
          ]
        }
      ]
    }
  ]
}